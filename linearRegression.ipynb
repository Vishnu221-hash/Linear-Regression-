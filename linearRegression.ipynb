{
  "cells": [
    {
      "cell_type": "code",
      "execution_count": 1,
      "metadata": {
        "id": "OoWFuxkX1ZXn"
      },
      "outputs": [],
      "source": [
        "import pandas as pd\n",
        "import numpy as np\n",
        "import matplotlib.pyplot as plt\n",
        "from sklearn.linear_model import LinearRegression"
      ]
    },
    {
      "cell_type": "code",
      "execution_count": 28,
      "metadata": {
        "id": "FBJiSQBd498b"
      },
      "outputs": [],
      "source": [
        "df= pd.read_csv(\"StudentsPerformance.csv\")"
      ]
    },
    {
      "cell_type": "code",
      "execution_count": 29,
      "metadata": {
        "colab": {
          "base_uri": "https://localhost:8080/",
          "height": 203
        },
        "id": "MBabDfHH5BzD",
        "outputId": "e82582f6-807e-4444-daf4-2e6b4f2534f9"
      },
      "outputs": [
        {
          "data": {
            "text/html": [
              "<div>\n",
              "<style scoped>\n",
              "    .dataframe tbody tr th:only-of-type {\n",
              "        vertical-align: middle;\n",
              "    }\n",
              "\n",
              "    .dataframe tbody tr th {\n",
              "        vertical-align: top;\n",
              "    }\n",
              "\n",
              "    .dataframe thead th {\n",
              "        text-align: right;\n",
              "    }\n",
              "</style>\n",
              "<table border=\"1\" class=\"dataframe\">\n",
              "  <thead>\n",
              "    <tr style=\"text-align: right;\">\n",
              "      <th></th>\n",
              "      <th>gender</th>\n",
              "      <th>race/ethnicity</th>\n",
              "      <th>parental level of education</th>\n",
              "      <th>lunch</th>\n",
              "      <th>test preparation course</th>\n",
              "      <th>math score</th>\n",
              "      <th>reading score</th>\n",
              "      <th>writing score</th>\n",
              "    </tr>\n",
              "  </thead>\n",
              "  <tbody>\n",
              "    <tr>\n",
              "      <th>0</th>\n",
              "      <td>female</td>\n",
              "      <td>group B</td>\n",
              "      <td>bachelor's degree</td>\n",
              "      <td>standard</td>\n",
              "      <td>none</td>\n",
              "      <td>72</td>\n",
              "      <td>72</td>\n",
              "      <td>74</td>\n",
              "    </tr>\n",
              "    <tr>\n",
              "      <th>1</th>\n",
              "      <td>female</td>\n",
              "      <td>group C</td>\n",
              "      <td>some college</td>\n",
              "      <td>standard</td>\n",
              "      <td>completed</td>\n",
              "      <td>69</td>\n",
              "      <td>90</td>\n",
              "      <td>88</td>\n",
              "    </tr>\n",
              "    <tr>\n",
              "      <th>2</th>\n",
              "      <td>female</td>\n",
              "      <td>group B</td>\n",
              "      <td>master's degree</td>\n",
              "      <td>standard</td>\n",
              "      <td>none</td>\n",
              "      <td>90</td>\n",
              "      <td>95</td>\n",
              "      <td>93</td>\n",
              "    </tr>\n",
              "    <tr>\n",
              "      <th>3</th>\n",
              "      <td>male</td>\n",
              "      <td>group A</td>\n",
              "      <td>associate's degree</td>\n",
              "      <td>free/reduced</td>\n",
              "      <td>none</td>\n",
              "      <td>47</td>\n",
              "      <td>57</td>\n",
              "      <td>44</td>\n",
              "    </tr>\n",
              "    <tr>\n",
              "      <th>4</th>\n",
              "      <td>male</td>\n",
              "      <td>group C</td>\n",
              "      <td>some college</td>\n",
              "      <td>standard</td>\n",
              "      <td>none</td>\n",
              "      <td>76</td>\n",
              "      <td>78</td>\n",
              "      <td>75</td>\n",
              "    </tr>\n",
              "  </tbody>\n",
              "</table>\n",
              "</div>"
            ],
            "text/plain": [
              "   gender race/ethnicity  ... reading score writing score\n",
              "0  female        group B  ...            72            74\n",
              "1  female        group C  ...            90            88\n",
              "2  female        group B  ...            95            93\n",
              "3    male        group A  ...            57            44\n",
              "4    male        group C  ...            78            75\n",
              "\n",
              "[5 rows x 8 columns]"
            ]
          },
          "execution_count": 29,
          "metadata": {},
          "output_type": "execute_result"
        }
      ],
      "source": [
        "df.head()\n"
      ]
    },
    {
      "cell_type": "code",
      "execution_count": 30,
      "metadata": {
        "id": "riNoPZrR5EDt"
      },
      "outputs": [],
      "source": [
        "df[\"total\"]=(df.sum(axis=1))/3"
      ]
    },
    {
      "cell_type": "code",
      "execution_count": 31,
      "metadata": {
        "colab": {
          "base_uri": "https://localhost:8080/",
          "height": 203
        },
        "id": "UssJgDqp5Wdp",
        "outputId": "3a618006-1c65-4941-c784-ba667fd84136"
      },
      "outputs": [
        {
          "data": {
            "text/html": [
              "<div>\n",
              "<style scoped>\n",
              "    .dataframe tbody tr th:only-of-type {\n",
              "        vertical-align: middle;\n",
              "    }\n",
              "\n",
              "    .dataframe tbody tr th {\n",
              "        vertical-align: top;\n",
              "    }\n",
              "\n",
              "    .dataframe thead th {\n",
              "        text-align: right;\n",
              "    }\n",
              "</style>\n",
              "<table border=\"1\" class=\"dataframe\">\n",
              "  <thead>\n",
              "    <tr style=\"text-align: right;\">\n",
              "      <th></th>\n",
              "      <th>gender</th>\n",
              "      <th>race/ethnicity</th>\n",
              "      <th>parental level of education</th>\n",
              "      <th>lunch</th>\n",
              "      <th>test preparation course</th>\n",
              "      <th>math score</th>\n",
              "      <th>reading score</th>\n",
              "      <th>writing score</th>\n",
              "      <th>total</th>\n",
              "    </tr>\n",
              "  </thead>\n",
              "  <tbody>\n",
              "    <tr>\n",
              "      <th>0</th>\n",
              "      <td>female</td>\n",
              "      <td>group B</td>\n",
              "      <td>bachelor's degree</td>\n",
              "      <td>standard</td>\n",
              "      <td>none</td>\n",
              "      <td>72</td>\n",
              "      <td>72</td>\n",
              "      <td>74</td>\n",
              "      <td>72.666667</td>\n",
              "    </tr>\n",
              "    <tr>\n",
              "      <th>1</th>\n",
              "      <td>female</td>\n",
              "      <td>group C</td>\n",
              "      <td>some college</td>\n",
              "      <td>standard</td>\n",
              "      <td>completed</td>\n",
              "      <td>69</td>\n",
              "      <td>90</td>\n",
              "      <td>88</td>\n",
              "      <td>82.333333</td>\n",
              "    </tr>\n",
              "    <tr>\n",
              "      <th>2</th>\n",
              "      <td>female</td>\n",
              "      <td>group B</td>\n",
              "      <td>master's degree</td>\n",
              "      <td>standard</td>\n",
              "      <td>none</td>\n",
              "      <td>90</td>\n",
              "      <td>95</td>\n",
              "      <td>93</td>\n",
              "      <td>92.666667</td>\n",
              "    </tr>\n",
              "    <tr>\n",
              "      <th>3</th>\n",
              "      <td>male</td>\n",
              "      <td>group A</td>\n",
              "      <td>associate's degree</td>\n",
              "      <td>free/reduced</td>\n",
              "      <td>none</td>\n",
              "      <td>47</td>\n",
              "      <td>57</td>\n",
              "      <td>44</td>\n",
              "      <td>49.333333</td>\n",
              "    </tr>\n",
              "    <tr>\n",
              "      <th>4</th>\n",
              "      <td>male</td>\n",
              "      <td>group C</td>\n",
              "      <td>some college</td>\n",
              "      <td>standard</td>\n",
              "      <td>none</td>\n",
              "      <td>76</td>\n",
              "      <td>78</td>\n",
              "      <td>75</td>\n",
              "      <td>76.333333</td>\n",
              "    </tr>\n",
              "  </tbody>\n",
              "</table>\n",
              "</div>"
            ],
            "text/plain": [
              "   gender race/ethnicity  ... writing score      total\n",
              "0  female        group B  ...            74  72.666667\n",
              "1  female        group C  ...            88  82.333333\n",
              "2  female        group B  ...            93  92.666667\n",
              "3    male        group A  ...            44  49.333333\n",
              "4    male        group C  ...            75  76.333333\n",
              "\n",
              "[5 rows x 9 columns]"
            ]
          },
          "execution_count": 31,
          "metadata": {},
          "output_type": "execute_result"
        }
      ],
      "source": [
        "df.head()"
      ]
    },
    {
      "cell_type": "code",
      "execution_count": 32,
      "metadata": {
        "id": "OBy_YYHB5YmS"
      },
      "outputs": [],
      "source": [
        "df=df.loc[:,['writing score','total']]"
      ]
    },
    {
      "cell_type": "code",
      "execution_count": 33,
      "metadata": {
        "colab": {
          "base_uri": "https://localhost:8080/",
          "height": 203
        },
        "id": "8rrMOLYb5jpf",
        "outputId": "4e1e67fc-b6b1-4c27-87ac-4c79a01e027e"
      },
      "outputs": [
        {
          "data": {
            "text/html": [
              "<div>\n",
              "<style scoped>\n",
              "    .dataframe tbody tr th:only-of-type {\n",
              "        vertical-align: middle;\n",
              "    }\n",
              "\n",
              "    .dataframe tbody tr th {\n",
              "        vertical-align: top;\n",
              "    }\n",
              "\n",
              "    .dataframe thead th {\n",
              "        text-align: right;\n",
              "    }\n",
              "</style>\n",
              "<table border=\"1\" class=\"dataframe\">\n",
              "  <thead>\n",
              "    <tr style=\"text-align: right;\">\n",
              "      <th></th>\n",
              "      <th>writing score</th>\n",
              "      <th>total</th>\n",
              "    </tr>\n",
              "  </thead>\n",
              "  <tbody>\n",
              "    <tr>\n",
              "      <th>0</th>\n",
              "      <td>74</td>\n",
              "      <td>72.666667</td>\n",
              "    </tr>\n",
              "    <tr>\n",
              "      <th>1</th>\n",
              "      <td>88</td>\n",
              "      <td>82.333333</td>\n",
              "    </tr>\n",
              "    <tr>\n",
              "      <th>2</th>\n",
              "      <td>93</td>\n",
              "      <td>92.666667</td>\n",
              "    </tr>\n",
              "    <tr>\n",
              "      <th>3</th>\n",
              "      <td>44</td>\n",
              "      <td>49.333333</td>\n",
              "    </tr>\n",
              "    <tr>\n",
              "      <th>4</th>\n",
              "      <td>75</td>\n",
              "      <td>76.333333</td>\n",
              "    </tr>\n",
              "  </tbody>\n",
              "</table>\n",
              "</div>"
            ],
            "text/plain": [
              "   writing score      total\n",
              "0             74  72.666667\n",
              "1             88  82.333333\n",
              "2             93  92.666667\n",
              "3             44  49.333333\n",
              "4             75  76.333333"
            ]
          },
          "execution_count": 33,
          "metadata": {},
          "output_type": "execute_result"
        }
      ],
      "source": [
        "df.head()"
      ]
    },
    {
      "cell_type": "code",
      "execution_count": 34,
      "metadata": {
        "colab": {
          "base_uri": "https://localhost:8080/"
        },
        "id": "qQNk41RF5pRF",
        "outputId": "897b2b6b-183f-4f67-81ef-96662af6c2b5"
      },
      "outputs": [
        {
          "data": {
            "text/plain": [
              "(1000, 2)"
            ]
          },
          "execution_count": 34,
          "metadata": {},
          "output_type": "execute_result"
        }
      ],
      "source": [
        "df.shape"
      ]
    },
    {
      "cell_type": "code",
      "execution_count": 35,
      "metadata": {
        "colab": {
          "base_uri": "https://localhost:8080/"
        },
        "id": "ao0THcrb5r4i",
        "outputId": "b93f57d6-d642-40fa-d03a-ad40f65599f9"
      },
      "outputs": [
        {
          "data": {
            "text/plain": [
              "writing score    0\n",
              "total            0\n",
              "dtype: int64"
            ]
          },
          "execution_count": 35,
          "metadata": {},
          "output_type": "execute_result"
        }
      ],
      "source": [
        "df.isnull().sum()"
      ]
    },
    {
      "cell_type": "code",
      "execution_count": 36,
      "metadata": {
        "colab": {
          "base_uri": "https://localhost:8080/"
        },
        "id": "5yJ0CIhk58e9",
        "outputId": "334edcea-d922-4bcc-f847-ee8ae87e1da6"
      },
      "outputs": [
        {
          "name": "stdout",
          "output_type": "stream",
          "text": [
            "<class 'pandas.core.frame.DataFrame'>\n",
            "RangeIndex: 1000 entries, 0 to 999\n",
            "Data columns (total 2 columns):\n",
            " #   Column         Non-Null Count  Dtype  \n",
            "---  ------         --------------  -----  \n",
            " 0   writing score  1000 non-null   int64  \n",
            " 1   total          1000 non-null   float64\n",
            "dtypes: float64(1), int64(1)\n",
            "memory usage: 15.8 KB\n"
          ]
        }
      ],
      "source": [
        "df.info()"
      ]
    },
    {
      "cell_type": "code",
      "execution_count": 37,
      "metadata": {
        "id": "8bLvpMup7HNL"
      },
      "outputs": [],
      "source": [
        "## splitting the dataset into train and test datasets\n",
        "x_train= np.array(df['writing score'][0:900]).reshape(900,1)\n",
        "y_train= np.array(df['total'][0:900]).reshape(900,1)\n",
        "\n",
        "\n",
        "x_test= np.array(df['writing score'][900:999]).reshape(99,1)\n",
        "y_test= np.array(df['total'][900:999]).reshape(99,1)"
      ]
    },
    {
      "cell_type": "code",
      "execution_count": 38,
      "metadata": {
        "colab": {
          "base_uri": "https://localhost:8080/"
        },
        "id": "a790WNqn_Clu",
        "outputId": "4d6733b1-231b-496f-b880-f77101c948a0"
      },
      "outputs": [
        {
          "data": {
            "text/plain": [
              "LinearRegression(copy_X=True, fit_intercept=True, n_jobs=None, normalize=False)"
            ]
          },
          "execution_count": 38,
          "metadata": {},
          "output_type": "execute_result"
        }
      ],
      "source": [
        "##implementing linear Regression algorithm\n",
        "linear_regressor= LinearRegression()\n",
        "linear_regressor.fit(x_train,y_train)"
      ]
    },
    {
      "cell_type": "code",
      "execution_count": 39,
      "metadata": {
        "id": "nbUaTwxlCct7"
      },
      "outputs": [],
      "source": [
        "predicted_values=linear_regressor.predict(x_test)"
      ]
    },
    {
      "cell_type": "code",
      "execution_count": 40,
      "metadata": {
        "colab": {
          "base_uri": "https://localhost:8080/"
        },
        "id": "-o1NX7xSC9tj",
        "outputId": "17c1b59b-285a-457d-8594-c11328500902"
      },
      "outputs": [
        {
          "data": {
            "text/plain": [
              "array([[86.71583272],\n",
              "       [73.17709705],\n",
              "       [43.39187858],\n",
              "       [96.64423888],\n",
              "       [82.20292083],\n",
              "       [75.88484419],\n",
              "       [52.41770236],\n",
              "       [88.52099748],\n",
              "       [71.3719323 ],\n",
              "       [69.56676754],\n",
              "       [49.70995522],\n",
              "       [80.39775608],\n",
              "       [65.95643803],\n",
              "       [65.95643803],\n",
              "       [56.02803187],\n",
              "       [65.95643803],\n",
              "       [96.64423888],\n",
              "       [53.32028473],\n",
              "       [78.59259132],\n",
              "       [88.52099748],\n",
              "       [66.85902041],\n",
              "       [47.90479047],\n",
              "       [65.95643803],\n",
              "       [65.05385565],\n",
              "       [68.66418516],\n",
              "       [60.54094376],\n",
              "       [53.32028473],\n",
              "       [70.46934992],\n",
              "       [46.09962571],\n",
              "       [52.41770236],\n",
              "       [69.56676754],\n",
              "       [62.34610852],\n",
              "       [72.27451467],\n",
              "       [73.17709705],\n",
              "       [87.6184151 ],\n",
              "       [58.735779  ],\n",
              "       [54.22286711],\n",
              "       [57.83319663],\n",
              "       [83.10550321],\n",
              "       [68.66418516],\n",
              "       [71.3719323 ],\n",
              "       [93.03390937],\n",
              "       [64.15127327],\n",
              "       [61.44352614],\n",
              "       [61.44352614],\n",
              "       [58.735779  ],\n",
              "       [78.59259132],\n",
              "       [60.54094376],\n",
              "       [53.32028473],\n",
              "       [72.27451467],\n",
              "       [70.46934992],\n",
              "       [81.30033846],\n",
              "       [71.3719323 ],\n",
              "       [55.12544949],\n",
              "       [68.66418516],\n",
              "       [62.34610852],\n",
              "       [79.4951737 ],\n",
              "       [96.64423888],\n",
              "       [59.63836138],\n",
              "       [70.46934992],\n",
              "       [64.15127327],\n",
              "       [54.22286711],\n",
              "       [96.64423888],\n",
              "       [74.07967943],\n",
              "       [58.735779  ],\n",
              "       [71.3719323 ],\n",
              "       [64.15127327],\n",
              "       [60.54094376],\n",
              "       [66.85902041],\n",
              "       [78.59259132],\n",
              "       [96.64423888],\n",
              "       [68.66418516],\n",
              "       [60.54094376],\n",
              "       [61.44352614],\n",
              "       [66.85902041],\n",
              "       [75.88484419],\n",
              "       [60.54094376],\n",
              "       [58.735779  ],\n",
              "       [49.70995522],\n",
              "       [91.22874462],\n",
              "       [27.14539577],\n",
              "       [76.78742657],\n",
              "       [84.00808559],\n",
              "       [88.52099748],\n",
              "       [80.39775608],\n",
              "       [55.12544949],\n",
              "       [52.41770236],\n",
              "       [74.98226181],\n",
              "       [47.00220809],\n",
              "       [81.30033846],\n",
              "       [74.07967943],\n",
              "       [76.78742657],\n",
              "       [74.98226181],\n",
              "       [73.17709705],\n",
              "       [62.34610852],\n",
              "       [92.13132699],\n",
              "       [56.02803187],\n",
              "       [65.05385565],\n",
              "       [75.88484419]])"
            ]
          },
          "execution_count": 40,
          "metadata": {},
          "output_type": "execute_result"
        }
      ],
      "source": [
        "predicted_values"
      ]
    },
    {
      "cell_type": "code",
      "execution_count": 41,
      "metadata": {
        "colab": {
          "base_uri": "https://localhost:8080/"
        },
        "id": "RJjRBAz2DARo",
        "outputId": "a87d6ca0-1257-481f-974a-202a4c52370d"
      },
      "outputs": [
        {
          "data": {
            "text/plain": [
              "array([[ 86.        ],\n",
              "       [ 75.        ],\n",
              "       [ 41.        ],\n",
              "       [ 97.66666667],\n",
              "       [ 78.33333333],\n",
              "       [ 80.66666667],\n",
              "       [ 52.        ],\n",
              "       [ 84.66666667],\n",
              "       [ 71.33333333],\n",
              "       [ 68.        ],\n",
              "       [ 46.66666667],\n",
              "       [ 78.33333333],\n",
              "       [ 59.66666667],\n",
              "       [ 58.33333333],\n",
              "       [ 54.        ],\n",
              "       [ 68.        ],\n",
              "       [100.        ],\n",
              "       [ 52.33333333],\n",
              "       [ 71.33333333],\n",
              "       [ 92.66666667],\n",
              "       [ 68.66666667],\n",
              "       [ 44.66666667],\n",
              "       [ 68.        ],\n",
              "       [ 61.33333333],\n",
              "       [ 71.        ],\n",
              "       [ 66.        ],\n",
              "       [ 57.33333333],\n",
              "       [ 65.66666667],\n",
              "       [ 44.33333333],\n",
              "       [ 51.66666667],\n",
              "       [ 70.33333333],\n",
              "       [ 60.33333333],\n",
              "       [ 68.33333333],\n",
              "       [ 73.        ],\n",
              "       [ 91.66666667],\n",
              "       [ 63.66666667],\n",
              "       [ 59.        ],\n",
              "       [ 57.33333333],\n",
              "       [ 83.66666667],\n",
              "       [ 71.33333333],\n",
              "       [ 70.        ],\n",
              "       [ 88.33333333],\n",
              "       [ 70.33333333],\n",
              "       [ 61.33333333],\n",
              "       [ 62.33333333],\n",
              "       [ 57.66666667],\n",
              "       [ 81.33333333],\n",
              "       [ 55.66666667],\n",
              "       [ 50.33333333],\n",
              "       [ 68.33333333],\n",
              "       [ 79.33333333],\n",
              "       [ 78.33333333],\n",
              "       [ 73.33333333],\n",
              "       [ 54.66666667],\n",
              "       [ 66.66666667],\n",
              "       [ 63.66666667],\n",
              "       [ 84.        ],\n",
              "       [ 97.33333333],\n",
              "       [ 55.66666667],\n",
              "       [ 75.66666667],\n",
              "       [ 59.33333333],\n",
              "       [ 51.66666667],\n",
              "       [100.        ],\n",
              "       [ 72.        ],\n",
              "       [ 62.33333333],\n",
              "       [ 68.        ],\n",
              "       [ 66.        ],\n",
              "       [ 62.        ],\n",
              "       [ 70.33333333],\n",
              "       [ 79.66666667],\n",
              "       [ 96.33333333],\n",
              "       [ 73.        ],\n",
              "       [ 54.33333333],\n",
              "       [ 58.33333333],\n",
              "       [ 61.33333333],\n",
              "       [ 74.33333333],\n",
              "       [ 60.66666667],\n",
              "       [ 61.66666667],\n",
              "       [ 48.        ],\n",
              "       [ 93.33333333],\n",
              "       [ 18.33333333],\n",
              "       [ 79.        ],\n",
              "       [ 83.33333333],\n",
              "       [ 85.33333333],\n",
              "       [ 77.        ],\n",
              "       [ 54.        ],\n",
              "       [ 50.        ],\n",
              "       [ 77.33333333],\n",
              "       [ 44.66666667],\n",
              "       [ 78.66666667],\n",
              "       [ 80.66666667],\n",
              "       [ 75.        ],\n",
              "       [ 69.        ],\n",
              "       [ 69.33333333],\n",
              "       [ 62.66666667],\n",
              "       [ 94.        ],\n",
              "       [ 57.33333333],\n",
              "       [ 65.        ],\n",
              "       [ 74.33333333]])"
            ]
          },
          "execution_count": 41,
          "metadata": {},
          "output_type": "execute_result"
        }
      ],
      "source": [
        "y_test"
      ]
    },
    {
      "cell_type": "code",
      "execution_count": 42,
      "metadata": {
        "id": "YHUX6LXtDEnu"
      },
      "outputs": [],
      "source": [
        "from sklearn.metrics import mean_squared_error"
      ]
    },
    {
      "cell_type": "code",
      "execution_count": 43,
      "metadata": {
        "colab": {
          "base_uri": "https://localhost:8080/"
        },
        "id": "kBmxrMZqDNRN",
        "outputId": "13736577-8ab8-4ac1-a503-2e82cac3c514"
      },
      "outputs": [
        {
          "data": {
            "text/plain": [
              "12.00434686509528"
            ]
          },
          "execution_count": 43,
          "metadata": {},
          "output_type": "execute_result"
        }
      ],
      "source": [
        "error=mean_squared_error(y_test,predicted_values)\n",
        "error"
      ]
    },
    {
      "cell_type": "code",
      "execution_count": 44,
      "metadata": {
        "colab": {
          "base_uri": "https://localhost:8080/",
          "height": 279
        },
        "id": "-nly-XQvDaEJ",
        "outputId": "41dd2a40-16ee-4e9e-a3b2-6e348f8cdeac"
      },
      "outputs": [
        {
          "data": {
            "image/png": "[encoded data removed]",
            "text/plain": [
              "<Figure size 432x288 with 1 Axes>"
            ]
          },
          "metadata": {
            "needs_background": "light"
          },
          "output_type": "display_data"
        }
      ],
      "source": [
        "plt.plot(x_test,y_test,'*',color=\"red\")\n",
        "plt.plot(x_test,predicted_values,'--',color=\"green\")\n",
        "\n",
        "plt.xlabel('input')\n",
        "plt.ylabel('output')\n",
        "plt.show()"
      ]
    },
    {
      "cell_type": "code",
      "execution_count": 27,
      "metadata": {
        "id": "D8pcby35DyPk"
      },
      "outputs": [],
      "source": []
    }
  ],
  "metadata": {
    "colab": {
      "collapsed_sections": [],
      "name": "linearRegression.ipynb",
      "provenance": []
    },
    "kernelspec": {
      "display_name": "Python 3",
      "name": "python3"
    },
    "language_info": {
      "name": "python"
    }
  },
  "nbformat": 4,
  "nbformat_minor": 0
}
